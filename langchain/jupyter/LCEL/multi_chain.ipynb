{
 "cells": [
  {
   "cell_type": "markdown",
   "id": "03f823e3-6d32-4ef6-8558-d34e6c20900d",
   "metadata": {},
   "source": [
    "## Multiple Chain 快速入门\n",
    "\n",
    "Runnables 可以轻松地用来串联多个 Chains，使用 RunnablePassthrough 将输出同时传给多条后继链。\n",
    "\n",
    "```\n",
    "     Input\n",
    "      / \\\n",
    "     /   \\\n",
    " Chain1 Chain2\n",
    "     \\   /\n",
    "      \\ /\n",
    "      Combine\n",
    "```\n",
    "\n",
    "本指南展示如何使用 Runnable 实现多个 AI 关于相同话题的辩论：\n",
    "\n",
    "```\n",
    "    输入话题\n",
    "       |\n",
    "       |\n",
    "    原始观点\n",
    "      / |\\\n",
    "     /  |  \\\n",
    " 正面论述| 反面论述\n",
    "     \\  | /\n",
    "      \\ |/\n",
    "     最终总结\n",
    "```"
   ]
  },
  {
   "cell_type": "code",
   "execution_count": 1,
   "id": "3a699e45-c4ea-460a-8dec-1ab973b5daf7",
   "metadata": {},
   "outputs": [
    {
     "name": "stdout",
     "output_type": "stream",
     "text": [
      "Azure mode\n"
     ]
    }
   ],
   "source": [
    "# 导入相关模块，包括运算符、输出解析器、聊天模板、ChatOpenAI 和 运行器\n",
    "from operator import itemgetter\n",
    "from langchain_core.output_parsers import StrOutputParser\n",
    "from langchain_core.prompts import ChatPromptTemplate\n",
    "from langchain_openai import ChatOpenAI,AzureChatOpenAI\n",
    "from langchain_core.runnables import RunnablePassthrough\n",
    "import os\n",
    "\n",
    "openai_enable = True\n",
    "if os.getenv('AZURE_OPENAI_ENDPOINT'):\n",
    "    print('Azure mode')\n",
    "    openai_enable = False\n",
    "else:\n",
    "    print('OpenAI mode')  \n",
    "\n",
    "if openai_enable:\n",
    "    llm = ChatOpenAI(model=\"gpt-4o-mini\")\n",
    "else:\n",
    "    llm = AzureChatOpenAI(\n",
    "        azure_deployment=\"checkGPT35_16K\",\n",
    "        api_version=\"2024-05-01-preview\",\n",
    "        temperature=0,\n",
    "        max_tokens=None,\n",
    "        timeout=None,\n",
    "        max_retries=2\n",
    "    )\n",
    "\n",
    "# 创建一个计划器，生成一个关于给定输入的论证\n",
    "planner = (\n",
    "    ChatPromptTemplate.from_template(\"生成关于以下内容的论点: {input}\")\n",
    "    | llm\n",
    "    | StrOutputParser()\n",
    "    | {\"base_response\": RunnablePassthrough()}\n",
    ")\n",
    "\n",
    "# 创建正面论证的处理链，列出关于基础回应的正面或有利的方面\n",
    "arguments_for = (\n",
    "    ChatPromptTemplate.from_template(\n",
    "        \"列出关于{base_response}的正面或有利的方面\"\n",
    "    )\n",
    "    | llm\n",
    "    | StrOutputParser()\n",
    ")\n",
    "\n",
    "# 创建反面论证的处理链，列出关于基础回应的反面或不利的方面\n",
    "arguments_against = (\n",
    "    ChatPromptTemplate.from_template(\n",
    "        \"列出关于{base_response}的反面或不利的方面\"\n",
    "    )\n",
    "    | llm\n",
    "    | StrOutputParser()\n",
    ")\n",
    "\n",
    "# 创建最终响应者，综合原始回应和正反论点生成最终的回应\n",
    "final_responder = (\n",
    "    ChatPromptTemplate.from_messages(\n",
    "        [\n",
    "            (\"ai\", \"{original_response}\"),\n",
    "            (\"human\", \"正面观点:\\n{results_1}\\n\\n反面观点:\\n{results_2}\"),\n",
    "            (\"system\", \"给出批评后生成最终回应\"),\n",
    "        ]\n",
    "    )\n",
    "    | llm\n",
    "    | StrOutputParser()\n",
    ")\n",
    "\n",
    "# 构建完整的处理链，从生成论点到列出正反论点，再到生成最终回应\n",
    "chain = (\n",
    "    planner\n",
    "    | {\n",
    "        \"results_1\": arguments_for,\n",
    "        \"results_2\": arguments_against,\n",
    "        \"original_response\": itemgetter(\"base_response\"),\n",
    "    }\n",
    "    | final_responder\n",
    ")"
   ]
  },
  {
   "cell_type": "code",
   "execution_count": 3,
   "id": "21340302-7a49-48af-a4a5-b516cb5596e0",
   "metadata": {},
   "outputs": [
    {
     "name": "stdout",
     "output_type": "stream",
     "text": [
      "尽管房地产低迷可能会带来一些负面影响，但我们也要看到其中的积极因素。例如，房地产调控政策的出台可以稳定市场和促进经济发展，降低房地产泡沫风险，优化资源配置，促进租赁市场发展，降低房价对居民的负担等。这些措施可以帮助我们应对房地产低迷带来的挑战，并为经济发展创造更好的环境。因此，我们应该采取相应的政策和措施来平衡房地产市场，促进经济的稳定和发展。\n"
     ]
    }
   ],
   "source": [
    "print(chain.invoke({\"input\": \"房地产低迷\"}))"
   ]
  },
  {
   "cell_type": "code",
   "execution_count": 4,
   "id": "840e1451",
   "metadata": {},
   "outputs": [
    {
     "name": "stdout",
     "output_type": "stream",
     "text": [
      "尽管参加适量的课外班可以带来一些好处，但我们也要认识到过多的课外班可能会对孩子的成长产生负面影响。我们应该在安排孩子的课外活动时，要适度平衡，确保孩子能够充分发展和成长。\n",
      "\n",
      "对于正面观点中提到的参加课外班可以提供更多学习机会和知识广度的观点，我们可以考虑通过其他方式来拓宽孩子的知识面，例如阅读、参观博物馆、参加社区活动等。这些活动可以提供丰富的学习机会，同时也给予孩子足够的自由时间和休息时间。\n",
      "\n",
      "关于参加课外班可以培养孩子的自律和时间管理能力的观点，我们可以鼓励孩子参与一些自主学习的活动，例如制定学习计划、完成个人项目等，以培养他们的自律性和时间管理能力。\n",
      "\n",
      "对于参加课外班可以提高孩子的竞争力和综合素质的观点，我们可以考虑通过其他方式来培养孩子的综合素质，例如参加社团活动、志愿者工作等。这些活动可以提供丰富的社交和领导经验，同时也给予孩子足够的时间进行自主学习和探索。\n",
      "\n",
      "最重要的是，我们要尊重孩子的个体差异和兴趣发展，不要过于功利化地安排他们的课外活动。我们应该鼓励孩子发现和追求自己真正的兴趣，并给予他们足够的时间和空间去发展和探索。\n",
      "\n",
      "总之，虽然参加适量的课外班可以带来一些好处，但过多的课外班可能会对孩子的成长产生负面影响。我们应该在安排孩子的课外活动时，要适度平衡，确保孩子能够充分发展和成长。\n"
     ]
    }
   ],
   "source": [
    "print(chain.invoke({\"input\": \"参加课外班太多对孩子成长不力\"}))"
   ]
  },
  {
   "cell_type": "markdown",
   "id": "6a9aabaf-2ce7-4ce2-ad44-f11b0dfe0f4b",
   "metadata": {},
   "source": [
    "#### 流式输出"
   ]
  },
  {
   "cell_type": "code",
   "execution_count": 5,
   "id": "58380571-fa69-426e-95a8-d17ebd61d147",
   "metadata": {},
   "outputs": [
    {
     "name": "stdout",
     "output_type": "stream",
     "text": [
      "尽管全球经济发展确实存在一些负面影响，但我们不能忽视其带来的积极影响。全球经济的创新和技术进步为社会带来了巨大的进步和福祉的提高。科学研究和技术发展的推动力来自于全球经济的发展，这使得我们能够更好地解决全球性问题，如医疗保健、食品安全和环境保护等。此外，全球经济的发展也为国际合作和和平稳定提供了机会。通过经济联系和相互依赖，各国更有动力通过对话和合作解决争端，减少战争和冲突的可能性。\n",
      "\n",
      "当然，我们也要认识到全球经济发展中存在的问题，并采取措施来解决这些问题。例如，我们可以通过可持续发展的方式来平衡经济增长和环境保护，推动绿色技术和可再生能源的发展。我们也可以通过改革国际经济秩序，确保更加公平和包容的全球经济发展。此外，我们应该加强劳工权益的保护，确保劳工在全球经济中能够获得公平的待遇和工作条件。\n",
      "\n",
      "综上所述，全球经济的发展既有积极的一面，也有负面的一面。我们应该充分认识到这些问题，并采取措施来解决和缓解其负面影响，以实现更加可持续和包容的全球经济发展。"
     ]
    }
   ],
   "source": [
    "## chain 最终输出经过了 StrOutputParser 处理，所以可以直接输出流式输出 s\n",
    "for s in chain.stream({\"input\": \"全球经济\"}):\n",
    "    print(s, end=\"\", flush=True)"
   ]
  },
  {
   "cell_type": "markdown",
   "id": "157236cc-1acd-4c2a-ade8-509d252f9941",
   "metadata": {},
   "source": [
    "### Homework: 实现一个多链版本的代码生成，输入功能需求，输出2种（Python，Java）以上编程语言的代码实现。"
   ]
  },
  {
   "cell_type": "code",
   "execution_count": 19,
   "id": "06a4635a",
   "metadata": {},
   "outputs": [],
   "source": [
    "os.environ['LANGCHAIN_TRACING_V2']='true'\n",
    "os.environ['LANGCHAIN_ENDPOINT']=\"https://api.smith.langchain.com\"\n",
    "os.environ['LANGCHAIN_API_KEY']=\"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\"\n",
    "os.environ['LANGCHAIN_PROJECT']=\"zz-testchain-1\""
   ]
  },
  {
   "cell_type": "code",
   "execution_count": 20,
   "id": "771683f6",
   "metadata": {},
   "outputs": [],
   "source": [
    "planner = (\n",
    "    ChatPromptTemplate.from_template('生成关于以下功能需求的Python代码: {requirement}, 记得首先陈述一下需求是什么')\n",
    "    | llm \n",
    "    | StrOutputParser()\n",
    "    | {\"python_code\": RunnablePassthrough()}\n",
    ")\n",
    "\n",
    "#print(planner.invoke({'requirement': '冒泡排序'}))"
   ]
  },
  {
   "cell_type": "code",
   "execution_count": 14,
   "id": "0c66837e",
   "metadata": {},
   "outputs": [],
   "source": [
    "Java_gen = (\n",
    "    ChatPromptTemplate.from_template(\"用Java把同样的功能再实现一遍: {python_code}\")\n",
    "    | llm\n",
    "    | StrOutputParser()\n",
    ")\n",
    "CPP_gen = (\n",
    "    ChatPromptTemplate.from_template(\"用C++把同样的功能再实现一遍: {python_code}\")\n",
    "    | llm\n",
    "    | StrOutputParser()\n",
    ")\n"
   ]
  },
  {
   "cell_type": "code",
   "execution_count": 15,
   "id": "533f6eec",
   "metadata": {},
   "outputs": [],
   "source": [
    "chain = (\n",
    "    planner\n",
    "    | {\n",
    "        \"results1\": itemgetter('python_code'),\n",
    "        'results2': Java_gen,\n",
    "        'results3': CPP_gen,\n",
    "        #'question': itemgetter('requirement')\n",
    "        }\n",
    "    | (lambda x: f\"\"\"\n",
    "----------------------------- Python 实现:\n",
    "{x['results1']}\n",
    "\n",
    "----------------------------- Java 实现:\n",
    "{x['results2']}\n",
    "\n",
    "----------------------------- C++ 实现:\n",
    "{x['results3']}\n",
    "\"\"\")\n",
    ")"
   ]
  },
  {
   "cell_type": "code",
   "execution_count": 21,
   "id": "b07325e9",
   "metadata": {},
   "outputs": [
    {
     "name": "stdout",
     "output_type": "stream",
     "text": [
      "\n",
      "----------------------------- Python 实现:\n",
      "需求：实现快速排序算法。\n",
      "\n",
      "代码实现如下：\n",
      "\n",
      "```python\n",
      "def quick_sort(arr):\n",
      "    if len(arr) <= 1:\n",
      "        return arr\n",
      "    pivot = arr[len(arr) // 2]\n",
      "    left = [x for x in arr if x < pivot]\n",
      "    middle = [x for x in arr if x == pivot]\n",
      "    right = [x for x in arr if x > pivot]\n",
      "    return quick_sort(left) + middle + quick_sort(right)\n",
      "\n",
      "# 示例用法\n",
      "arr = [3, 1, 5, 2, 4]\n",
      "sorted_arr = quick_sort(arr)\n",
      "print(sorted_arr)\n",
      "```\n",
      "\n",
      "以上代码实现了快速排序算法。首先，定义了一个名为`quick_sort`的函数，该函数接受一个列表作为输入，并返回排序后的列表。在函数内部，首先判断列表长度是否小于等于1，如果是，则直接返回该列表。然后，选择列表中间位置的元素作为基准值（pivot）。接下来，将列表分成三部分：小于基准值的元素、等于基准值的元素和大于基准值的元素。使用列表推导式将元素分别放入左、中、右三个列表中。最后，通过递归调用`quick_sort`函数对左右两个列表进行排序，并将结果与中间列表合并后返回。\n",
      "\n",
      "示例用法展示了如何使用该函数对一个列表进行排序，并打印排序后的结果。\n",
      "\n",
      "----------------------------- Java 实现:\n",
      "以下是使用Java实现的快速排序算法：\n",
      "\n",
      "```java\n",
      "import java.util.Arrays;\n",
      "\n",
      "public class QuickSort {\n",
      "    public static void main(String[] args) {\n",
      "        int[] arr = {3, 1, 5, 2, 4};\n",
      "        quickSort(arr, 0, arr.length - 1);\n",
      "        System.out.println(Arrays.toString(arr));\n",
      "    }\n",
      "\n",
      "    public static void quickSort(int[] arr, int low, int high) {\n",
      "        if (low < high) {\n",
      "            int pivotIndex = partition(arr, low, high);\n",
      "            quickSort(arr, low, pivotIndex - 1);\n",
      "            quickSort(arr, pivotIndex + 1, high);\n",
      "        }\n",
      "    }\n",
      "\n",
      "    public static int partition(int[] arr, int low, int high) {\n",
      "        int pivot = arr[high];\n",
      "        int i = low - 1;\n",
      "        for (int j = low; j < high; j++) {\n",
      "            if (arr[j] < pivot) {\n",
      "                i++;\n",
      "                swap(arr, i, j);\n",
      "            }\n",
      "        }\n",
      "        swap(arr, i + 1, high);\n",
      "        return i + 1;\n",
      "    }\n",
      "\n",
      "    public static void swap(int[] arr, int i, int j) {\n",
      "        int temp = arr[i];\n",
      "        arr[i] = arr[j];\n",
      "        arr[j] = temp;\n",
      "    }\n",
      "}\n",
      "```\n",
      "\n",
      "在Java中，我们首先定义了一个名为`QuickSort`的类。在`main`方法中，我们创建了一个整数数组`arr`，并调用`quickSort`方法对其进行排序。最后，我们使用`Arrays.toString`方法将排序后的数组打印出来。\n",
      "\n",
      "`quickSort`方法是快速排序的核心实现。它接受一个整数数组`arr`、一个起始索引`low`和一个结束索引`high`作为参数。在方法内部，我们首先判断`low`是否小于`high`，如果是，则进行以下操作：\n",
      "\n",
      "1. 调用`partition`方法获取基准值的索引`pivotIndex`。\n",
      "2. 递归调用`quickSort`方法对基准值左边的子数组进行排序。\n",
      "3. 递归调用`quickSort`方法对基准值右边的子数组进行排序。\n",
      "\n",
      "`partition`方法用于将数组分成两部分，并返回基准值的索引。它接受一个整数数组`arr`、一个起始索引`low`和一个结束索引`high`作为参数。在方法内部，我们选择数组最后一个元素作为基准值`pivot`，并初始化一个索引`i`为`low - 1`。然后，我们使用一个循环遍历数组中的元素，如果元素小于基准值，则将`i`递增，并交换`arr[i]`和`arr[j]`的值。最后，我们将基准值与`arr[i + 1]`交换，并返回`i + 1`作为基准值的索引。\n",
      "\n",
      "`swap`方法用于交换数组中两个元素的值。它接受一个整数数组`arr`和两个索引`i`、`j`作为参数。在方法内部，我们使用一个临时变量`temp`来保存`arr[i]`的值，然后将`arr[i]`的值赋给`arr[j]`，最后将`temp`的值赋给`arr[j]`。这样就完成了两个元素的交换操作。\n",
      "\n",
      "----------------------------- C++ 实现:\n",
      "以下是使用C++实现的快速排序算法：\n",
      "\n",
      "```cpp\n",
      "#include <iostream>\n",
      "#include <vector>\n",
      "\n",
      "using namespace std;\n",
      "\n",
      "vector<int> quickSort(vector<int>& arr) {\n",
      "    if (arr.size() <= 1) {\n",
      "        return arr;\n",
      "    }\n",
      "    int pivot = arr[arr.size() / 2];\n",
      "    vector<int> left, middle, right;\n",
      "    for (int i = 0; i < arr.size(); i++) {\n",
      "        if (arr[i] < pivot) {\n",
      "            left.push_back(arr[i]);\n",
      "        } else if (arr[i] == pivot) {\n",
      "            middle.push_back(arr[i]);\n",
      "        } else {\n",
      "            right.push_back(arr[i]);\n",
      "        }\n",
      "    }\n",
      "    vector<int> sortedLeft = quickSort(left);\n",
      "    vector<int> sortedRight = quickSort(right);\n",
      "    vector<int> sortedArr;\n",
      "    sortedArr.insert(sortedArr.end(), sortedLeft.begin(), sortedLeft.end());\n",
      "    sortedArr.insert(sortedArr.end(), middle.begin(), middle.end());\n",
      "    sortedArr.insert(sortedArr.end(), sortedRight.begin(), sortedRight.end());\n",
      "    return sortedArr;\n",
      "}\n",
      "\n",
      "int main() {\n",
      "    vector<int> arr = {3, 1, 5, 2, 4};\n",
      "    vector<int> sortedArr = quickSort(arr);\n",
      "    for (int i = 0; i < sortedArr.size(); i++) {\n",
      "        cout << sortedArr[i] << \" \";\n",
      "    }\n",
      "    cout << endl;\n",
      "    return 0;\n",
      "}\n",
      "```\n",
      "\n",
      "以上代码首先包含了必要的头文件，并使用`using namespace std;`来简化代码。然后，定义了一个名为`quickSort`的函数，该函数接受一个整数向量作为输入，并返回排序后的整数向量。在函数内部，首先判断向量大小是否小于等于1，如果是，则直接返回该向量。然后，选择向量中间位置的元素作为基准值（pivot）。接下来，使用循环遍历向量中的元素，并根据元素与基准值的大小关系将元素放入左、中、右三个向量中。最后，通过递归调用`quickSort`函数对左右两个向量进行排序，并将结果合并到一个新的向量中，最后返回该向量。\n",
      "\n",
      "在`main`函数中，定义了一个整数向量`arr`，并使用`quickSort`函数对其进行排序。然后，使用循环遍历排序后的向量，并打印每个元素。最后，返回0表示程序正常结束。\n",
      "\n"
     ]
    }
   ],
   "source": [
    "print(chain.invoke({'requirement':'quick sorting'}))"
   ]
  },
  {
   "cell_type": "code",
   "execution_count": 18,
   "id": "440c84be",
   "metadata": {},
   "outputs": [
    {
     "data": {
      "text/plain": [
       "AIMessage(content='Hello! How can I assist you today?', response_metadata={'token_usage': {'completion_tokens': 9, 'prompt_tokens': 10, 'total_tokens': 19}, 'model_name': 'gpt-35-turbo-16k', 'system_fingerprint': None, 'prompt_filter_results': [{'prompt_index': 0, 'content_filter_results': {}}], 'finish_reason': 'stop', 'logprobs': None, 'content_filter_results': {'hate': {'filtered': False, 'severity': 'safe'}, 'self_harm': {'filtered': False, 'severity': 'safe'}, 'sexual': {'filtered': False, 'severity': 'safe'}, 'violence': {'filtered': False, 'severity': 'safe'}}}, id='run-a817e408-7894-49f1-b661-0fdee35b1a78-0')"
      ]
     },
     "execution_count": 18,
     "metadata": {},
     "output_type": "execute_result"
    }
   ],
   "source": [
    "LANGCHAIN_PROJECT=\"pr-candid-collard-51\"\n",
    "llm.invoke('hello, world')"
   ]
  }
 ],
 "metadata": {
  "kernelspec": {
   "display_name": "Python 3 (ipykernel)",
   "language": "python",
   "name": "python3"
  },
  "language_info": {
   "codemirror_mode": {
    "name": "ipython",
    "version": 3
   },
   "file_extension": ".py",
   "mimetype": "text/x-python",
   "name": "python",
   "nbconvert_exporter": "python",
   "pygments_lexer": "ipython3",
   "version": "3.12.3"
  }
 },
 "nbformat": 4,
 "nbformat_minor": 5
}
